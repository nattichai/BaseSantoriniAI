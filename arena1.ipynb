{
 "cells": [
  {
   "cell_type": "code",
   "execution_count": null,
   "metadata": {},
   "outputs": [],
   "source": [
    "from game.santorini import Santorini\n",
    "from net.santorininet import SantoriniNet\n",
    "from alphazero.players import *\n",
    "from chula_rl.online.client import OnlineEnv"
   ]
  },
  {
   "cell_type": "code",
   "execution_count": null,
   "metadata": {},
   "outputs": [],
   "source": [
    "class NetArgs:\n",
    "    lr: float = 0.001\n",
    "    dropout: float = 0.3\n",
    "    epochs: int = 4\n",
    "    batch_size: int = 64\n",
    "    num_channels: int = 256\n",
    "        \n",
    "def make_game():\n",
    "    return Santorini(superpower=True)"
   ]
  },
  {
   "cell_type": "code",
   "execution_count": null,
   "metadata": {},
   "outputs": [],
   "source": [
    "game = make_game()\n",
    "net = SantoriniNet(game.board_dim, game.action_size, NetArgs)\n",
    "net.load('checkpoint/', 'model1.h5')"
   ]
  },
  {
   "cell_type": "code",
   "execution_count": null,
   "metadata": {},
   "outputs": [],
   "source": [
    "alpha_player = AlphaPlayer(make_game, net, n_sims=10, c_puct=1)"
   ]
  },
  {
   "cell_type": "code",
   "execution_count": null,
   "metadata": {},
   "outputs": [],
   "source": [
    "room_id = 93814\n",
    "env = OnlineEnv('http://203.150.243.248:5000', room_id, play_match=True)\n",
    "state = env.reset()\n",
    "\n",
    "while True:\n",
    "    print(state)\n",
    "    action = alpha_player.play(state)\n",
    "    state, reward, done, _ = env.step(action)\n",
    "    if done:\n",
    "        state = env.reset()"
   ]
  },
  {
   "cell_type": "code",
   "execution_count": null,
   "metadata": {},
   "outputs": [],
   "source": []
  }
 ],
 "metadata": {
  "kernelspec": {
   "display_name": "Python 3",
   "language": "python",
   "name": "python3"
  },
  "language_info": {
   "codemirror_mode": {
    "name": "ipython",
    "version": 3
   },
   "file_extension": ".py",
   "mimetype": "text/x-python",
   "name": "python",
   "nbconvert_exporter": "python",
   "pygments_lexer": "ipython3",
   "version": "3.6.5"
  }
 },
 "nbformat": 4,
 "nbformat_minor": 2
}
