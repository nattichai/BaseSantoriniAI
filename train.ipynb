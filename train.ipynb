{
 "cells": [
  {
   "cell_type": "code",
   "execution_count": null,
   "metadata": {},
   "outputs": [],
   "source": [
    "from game.santorini import Santorini\n",
    "from net.santorininet import SantoriniNet\n",
    "from alphazero.coach import Coach"
   ]
  },
  {
   "cell_type": "code",
   "execution_count": null,
   "metadata": {},
   "outputs": [],
   "source": [
    "class CoachArgs:\n",
    "    n_itr: int = 1000\n",
    "\n",
    "    n_ep: int = 5\n",
    "    n_sims: int = 5\n",
    "    c_puct: float = 3\n",
    "    no_temp_step: int = 18\n",
    "    max_history_itr: int = 20\n",
    "    \n",
    "    checkpoint: str = './checkpoint'\n",
    "        \n",
    "class NetArgs:\n",
    "    lr: float = 0.001\n",
    "    dropout: float = 0.3\n",
    "    epochs: int = 4\n",
    "    batch_size: int = 64\n",
    "    num_channels: int = 256\n",
    "        \n",
    "def make_game():\n",
    "    return Santorini(superpower=True)"
   ]
  },
  {
   "cell_type": "code",
   "execution_count": null,
   "metadata": {},
   "outputs": [],
   "source": [
    "game = make_game()\n",
    "net = SantoriniNet(game.board_dim, game.action_size, NetArgs)\n",
    "coach = Coach(make_game, net, CoachArgs)\n",
    "coach.learn()"
   ]
  },
  {
   "cell_type": "code",
   "execution_count": null,
   "metadata": {},
   "outputs": [],
   "source": []
  }
 ],
 "metadata": {
  "kernelspec": {
   "display_name": "Python 3",
   "language": "python",
   "name": "python3"
  },
  "language_info": {
   "codemirror_mode": {
    "name": "ipython",
    "version": 3
   },
   "file_extension": ".py",
   "mimetype": "text/x-python",
   "name": "python",
   "nbconvert_exporter": "python",
   "pygments_lexer": "ipython3",
   "version": "3.6.5"
  }
 },
 "nbformat": 4,
 "nbformat_minor": 2
}
